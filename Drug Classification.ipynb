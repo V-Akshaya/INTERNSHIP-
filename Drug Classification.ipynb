{
 "cells": [
  {
   "cell_type": "markdown",
   "id": "5d5077b1",
   "metadata": {},
   "source": [
    "# ABOUT THE NOTEBOOK"
   ]
  },
  {
   "cell_type": "markdown",
   "id": "d243c53f",
   "metadata": {},
   "source": [
    "The objective of this Notebook is to build a classification model that classifies the side effect of a drug, \n",
    "according to their age and various other features like gender, race of different patients."
   ]
  },
  {
   "cell_type": "code",
   "execution_count": null,
   "id": "57be7119",
   "metadata": {},
   "outputs": [],
   "source": []
  },
  {
   "cell_type": "markdown",
   "id": "4b092896",
   "metadata": {},
   "source": [
    "#### Importing Dependancies and Relevant Libraries"
   ]
  },
  {
   "cell_type": "code",
   "execution_count": 1,
   "id": "1a33a246",
   "metadata": {},
   "outputs": [],
   "source": [
    "import pandas as pd\n",
    "import numpy as np\n",
    "import matplotlib.pyplot as plt\n",
    "import seaborn as sns\n",
    "import warnings\n",
    "warnings.filterwarnings('ignore') "
   ]
  },
  {
   "cell_type": "code",
   "execution_count": null,
   "id": "6f3256fa",
   "metadata": {},
   "outputs": [],
   "source": []
  },
  {
   "cell_type": "markdown",
   "id": "a748cc7c",
   "metadata": {},
   "source": [
    "#### Loading the Drug side effect Dataset"
   ]
  },
  {
   "cell_type": "code",
   "execution_count": 2,
   "id": "9ca5d3f0",
   "metadata": {},
   "outputs": [],
   "source": [
    "df = pd.read_csv('DRUG classification.csv')"
   ]
  },
  {
   "cell_type": "code",
   "execution_count": 3,
   "id": "f82968ba",
   "metadata": {},
   "outputs": [
    {
     "data": {
      "text/html": [
       "<div>\n",
       "<style scoped>\n",
       "    .dataframe tbody tr th:only-of-type {\n",
       "        vertical-align: middle;\n",
       "    }\n",
       "\n",
       "    .dataframe tbody tr th {\n",
       "        vertical-align: top;\n",
       "    }\n",
       "\n",
       "    .dataframe thead th {\n",
       "        text-align: right;\n",
       "    }\n",
       "</style>\n",
       "<table border=\"1\" class=\"dataframe\">\n",
       "  <thead>\n",
       "    <tr style=\"text-align: right;\">\n",
       "      <th></th>\n",
       "      <th>Age</th>\n",
       "      <th>Condition</th>\n",
       "      <th>Drug</th>\n",
       "      <th>EaseofUse</th>\n",
       "      <th>Satisfaction</th>\n",
       "      <th>Gender</th>\n",
       "      <th>Side effect</th>\n",
       "      <th>Race</th>\n",
       "    </tr>\n",
       "  </thead>\n",
       "  <tbody>\n",
       "    <tr>\n",
       "      <th>0</th>\n",
       "      <td>41</td>\n",
       "      <td>Stuffy Nose</td>\n",
       "      <td>25dph-7.5peh</td>\n",
       "      <td>5</td>\n",
       "      <td>5</td>\n",
       "      <td>M</td>\n",
       "      <td>Constipation</td>\n",
       "      <td>asian</td>\n",
       "    </tr>\n",
       "    <tr>\n",
       "      <th>1</th>\n",
       "      <td>49</td>\n",
       "      <td>Cold Symptoms</td>\n",
       "      <td>25dph-7.5peh</td>\n",
       "      <td>5</td>\n",
       "      <td>5</td>\n",
       "      <td>M</td>\n",
       "      <td>Dermatitis</td>\n",
       "      <td>asian</td>\n",
       "    </tr>\n",
       "    <tr>\n",
       "      <th>2</th>\n",
       "      <td>37</td>\n",
       "      <td>Other</td>\n",
       "      <td>warfarin (bulk) 100 % powder</td>\n",
       "      <td>2</td>\n",
       "      <td>3</td>\n",
       "      <td>M</td>\n",
       "      <td>Diarrhea</td>\n",
       "      <td>african american</td>\n",
       "    </tr>\n",
       "    <tr>\n",
       "      <th>3</th>\n",
       "      <td>33</td>\n",
       "      <td>Other</td>\n",
       "      <td>warfarin (bulk) 100 % powder</td>\n",
       "      <td>2</td>\n",
       "      <td>1</td>\n",
       "      <td>M</td>\n",
       "      <td>Dizziness</td>\n",
       "      <td>american indian</td>\n",
       "    </tr>\n",
       "    <tr>\n",
       "      <th>4</th>\n",
       "      <td>27</td>\n",
       "      <td>Other</td>\n",
       "      <td>warfarin (bulk) 100 % powder</td>\n",
       "      <td>1</td>\n",
       "      <td>1</td>\n",
       "      <td>M</td>\n",
       "      <td>Drowsiness</td>\n",
       "      <td>native hawaiian</td>\n",
       "    </tr>\n",
       "  </tbody>\n",
       "</table>\n",
       "</div>"
      ],
      "text/plain": [
       "   Age      Condition                          Drug  EaseofUse  Satisfaction  \\\n",
       "0   41    Stuffy Nose                  25dph-7.5peh          5             5   \n",
       "1   49  Cold Symptoms                  25dph-7.5peh          5             5   \n",
       "2   37          Other  warfarin (bulk) 100 % powder          2             3   \n",
       "3   33          Other  warfarin (bulk) 100 % powder          2             1   \n",
       "4   27          Other  warfarin (bulk) 100 % powder          1             1   \n",
       "\n",
       "  Gender   Side effect              Race  \n",
       "0      M  Constipation             asian  \n",
       "1      M    Dermatitis             asian  \n",
       "2      M      Diarrhea  african american  \n",
       "3      M     Dizziness   american indian  \n",
       "4      M    Drowsiness   native hawaiian  "
      ]
     },
     "execution_count": 3,
     "metadata": {},
     "output_type": "execute_result"
    }
   ],
   "source": [
    "df.head()"
   ]
  },
  {
   "cell_type": "code",
   "execution_count": 22,
   "id": "e788d9e4",
   "metadata": {},
   "outputs": [
    {
     "data": {
      "text/html": [
       "<div>\n",
       "<style scoped>\n",
       "    .dataframe tbody tr th:only-of-type {\n",
       "        vertical-align: middle;\n",
       "    }\n",
       "\n",
       "    .dataframe tbody tr th {\n",
       "        vertical-align: top;\n",
       "    }\n",
       "\n",
       "    .dataframe thead th {\n",
       "        text-align: right;\n",
       "    }\n",
       "</style>\n",
       "<table border=\"1\" class=\"dataframe\">\n",
       "  <thead>\n",
       "    <tr style=\"text-align: right;\">\n",
       "      <th></th>\n",
       "      <th>Age</th>\n",
       "      <th>Condition</th>\n",
       "      <th>Drug</th>\n",
       "      <th>EaseofUse</th>\n",
       "      <th>Satisfaction</th>\n",
       "      <th>Gender</th>\n",
       "      <th>Side effect</th>\n",
       "      <th>Race</th>\n",
       "    </tr>\n",
       "  </thead>\n",
       "  <tbody>\n",
       "    <tr>\n",
       "      <th>399995</th>\n",
       "      <td>47</td>\n",
       "      <td>Bronchitis caused by the Bacteria Streptococcu...</td>\n",
       "      <td>levofloxacin solution</td>\n",
       "      <td>2</td>\n",
       "      <td>2</td>\n",
       "      <td>M</td>\n",
       "      <td>Dizziness</td>\n",
       "      <td>white</td>\n",
       "    </tr>\n",
       "    <tr>\n",
       "      <th>399996</th>\n",
       "      <td>28</td>\n",
       "      <td>Acute Inflammation of the Maxillary Sinus</td>\n",
       "      <td>levofloxacin</td>\n",
       "      <td>3</td>\n",
       "      <td>1</td>\n",
       "      <td>M</td>\n",
       "      <td>Insomnia</td>\n",
       "      <td>white</td>\n",
       "    </tr>\n",
       "    <tr>\n",
       "      <th>399997</th>\n",
       "      <td>28</td>\n",
       "      <td>Other</td>\n",
       "      <td>levitra</td>\n",
       "      <td>5</td>\n",
       "      <td>5</td>\n",
       "      <td>M</td>\n",
       "      <td>Constipation</td>\n",
       "      <td>white</td>\n",
       "    </tr>\n",
       "    <tr>\n",
       "      <th>399998</th>\n",
       "      <td>28</td>\n",
       "      <td>Bacterial Infection with Bronchitis</td>\n",
       "      <td>levaquin</td>\n",
       "      <td>1</td>\n",
       "      <td>1</td>\n",
       "      <td>M</td>\n",
       "      <td>Dermatitis</td>\n",
       "      <td>asian</td>\n",
       "    </tr>\n",
       "    <tr>\n",
       "      <th>399999</th>\n",
       "      <td>49</td>\n",
       "      <td>Staphylococcus Saprophyticus Infection of Urin...</td>\n",
       "      <td>levofloxacin solution</td>\n",
       "      <td>5</td>\n",
       "      <td>1</td>\n",
       "      <td>M</td>\n",
       "      <td>Dermatitis</td>\n",
       "      <td>asian</td>\n",
       "    </tr>\n",
       "  </tbody>\n",
       "</table>\n",
       "</div>"
      ],
      "text/plain": [
       "        Age                                          Condition  \\\n",
       "399995   47  Bronchitis caused by the Bacteria Streptococcu...   \n",
       "399996   28          Acute Inflammation of the Maxillary Sinus   \n",
       "399997   28                                              Other   \n",
       "399998   28                Bacterial Infection with Bronchitis   \n",
       "399999   49  Staphylococcus Saprophyticus Infection of Urin...   \n",
       "\n",
       "                         Drug  EaseofUse  Satisfaction Gender   Side effect  \\\n",
       "399995  levofloxacin solution          2             2      M     Dizziness   \n",
       "399996           levofloxacin          3             1      M      Insomnia   \n",
       "399997                levitra          5             5      M  Constipation   \n",
       "399998               levaquin          1             1      M    Dermatitis   \n",
       "399999  levofloxacin solution          5             1      M    Dermatitis   \n",
       "\n",
       "         Race  \n",
       "399995  white  \n",
       "399996  white  \n",
       "399997  white  \n",
       "399998  asian  \n",
       "399999  asian  "
      ]
     },
     "execution_count": 22,
     "metadata": {},
     "output_type": "execute_result"
    }
   ],
   "source": [
    "df.tail()"
   ]
  },
  {
   "cell_type": "markdown",
   "id": "d7248033",
   "metadata": {},
   "source": [
    "### Understanding the dataset"
   ]
  },
  {
   "cell_type": "code",
   "execution_count": 4,
   "id": "5707273d",
   "metadata": {},
   "outputs": [
    {
     "name": "stdout",
     "output_type": "stream",
     "text": [
      "<class 'pandas.core.frame.DataFrame'>\n",
      "RangeIndex: 400000 entries, 0 to 399999\n",
      "Data columns (total 8 columns):\n",
      " #   Column        Non-Null Count   Dtype \n",
      "---  ------        --------------   ----- \n",
      " 0   Age           400000 non-null  int64 \n",
      " 1   Condition     400000 non-null  object\n",
      " 2   Drug          400000 non-null  object\n",
      " 3   EaseofUse     400000 non-null  int64 \n",
      " 4   Satisfaction  400000 non-null  int64 \n",
      " 5   Gender        400000 non-null  object\n",
      " 6   Side effect   400000 non-null  object\n",
      " 7   Race          400000 non-null  object\n",
      "dtypes: int64(3), object(5)\n",
      "memory usage: 24.4+ MB\n"
     ]
    }
   ],
   "source": [
    "df.info()"
   ]
  },
  {
   "cell_type": "code",
   "execution_count": 5,
   "id": "f775a3df",
   "metadata": {},
   "outputs": [
    {
     "data": {
      "text/plain": [
       "(400000, 8)"
      ]
     },
     "execution_count": 5,
     "metadata": {},
     "output_type": "execute_result"
    }
   ],
   "source": [
    "df.shape"
   ]
  },
  {
   "cell_type": "code",
   "execution_count": 6,
   "id": "c2f2f65e",
   "metadata": {},
   "outputs": [
    {
     "data": {
      "text/plain": [
       "Age             0\n",
       "Condition       0\n",
       "Drug            0\n",
       "EaseofUse       0\n",
       "Satisfaction    0\n",
       "Gender          0\n",
       "Side effect     0\n",
       "Race            0\n",
       "dtype: int64"
      ]
     },
     "execution_count": 6,
     "metadata": {},
     "output_type": "execute_result"
    }
   ],
   "source": [
    "df.isnull().sum()"
   ]
  },
  {
   "cell_type": "code",
   "execution_count": 7,
   "id": "52ce5fda",
   "metadata": {},
   "outputs": [
    {
     "data": {
      "text/html": [
       "<div>\n",
       "<style scoped>\n",
       "    .dataframe tbody tr th:only-of-type {\n",
       "        vertical-align: middle;\n",
       "    }\n",
       "\n",
       "    .dataframe tbody tr th {\n",
       "        vertical-align: top;\n",
       "    }\n",
       "\n",
       "    .dataframe thead th {\n",
       "        text-align: right;\n",
       "    }\n",
       "</style>\n",
       "<table border=\"1\" class=\"dataframe\">\n",
       "  <thead>\n",
       "    <tr style=\"text-align: right;\">\n",
       "      <th></th>\n",
       "      <th>Age</th>\n",
       "      <th>Condition</th>\n",
       "      <th>Drug</th>\n",
       "      <th>EaseofUse</th>\n",
       "      <th>Satisfaction</th>\n",
       "      <th>Gender</th>\n",
       "      <th>Side effect</th>\n",
       "      <th>Race</th>\n",
       "    </tr>\n",
       "  </thead>\n",
       "  <tbody>\n",
       "    <tr>\n",
       "      <th>0</th>\n",
       "      <td>41</td>\n",
       "      <td>Stuffy Nose</td>\n",
       "      <td>25dph-7.5peh</td>\n",
       "      <td>5</td>\n",
       "      <td>5</td>\n",
       "      <td>M</td>\n",
       "      <td>Constipation</td>\n",
       "      <td>asian</td>\n",
       "    </tr>\n",
       "    <tr>\n",
       "      <th>1</th>\n",
       "      <td>49</td>\n",
       "      <td>Cold Symptoms</td>\n",
       "      <td>25dph-7.5peh</td>\n",
       "      <td>5</td>\n",
       "      <td>5</td>\n",
       "      <td>M</td>\n",
       "      <td>Dermatitis</td>\n",
       "      <td>asian</td>\n",
       "    </tr>\n",
       "    <tr>\n",
       "      <th>2</th>\n",
       "      <td>37</td>\n",
       "      <td>Other</td>\n",
       "      <td>warfarin (bulk) 100 % powder</td>\n",
       "      <td>2</td>\n",
       "      <td>3</td>\n",
       "      <td>M</td>\n",
       "      <td>Diarrhea</td>\n",
       "      <td>african american</td>\n",
       "    </tr>\n",
       "    <tr>\n",
       "      <th>3</th>\n",
       "      <td>33</td>\n",
       "      <td>Other</td>\n",
       "      <td>warfarin (bulk) 100 % powder</td>\n",
       "      <td>2</td>\n",
       "      <td>1</td>\n",
       "      <td>M</td>\n",
       "      <td>Dizziness</td>\n",
       "      <td>american indian</td>\n",
       "    </tr>\n",
       "    <tr>\n",
       "      <th>4</th>\n",
       "      <td>27</td>\n",
       "      <td>Other</td>\n",
       "      <td>warfarin (bulk) 100 % powder</td>\n",
       "      <td>1</td>\n",
       "      <td>1</td>\n",
       "      <td>M</td>\n",
       "      <td>Drowsiness</td>\n",
       "      <td>native hawaiian</td>\n",
       "    </tr>\n",
       "  </tbody>\n",
       "</table>\n",
       "</div>"
      ],
      "text/plain": [
       "   Age      Condition                          Drug  EaseofUse  Satisfaction  \\\n",
       "0   41    Stuffy Nose                  25dph-7.5peh          5             5   \n",
       "1   49  Cold Symptoms                  25dph-7.5peh          5             5   \n",
       "2   37          Other  warfarin (bulk) 100 % powder          2             3   \n",
       "3   33          Other  warfarin (bulk) 100 % powder          2             1   \n",
       "4   27          Other  warfarin (bulk) 100 % powder          1             1   \n",
       "\n",
       "  Gender   Side effect              Race  \n",
       "0      M  Constipation             asian  \n",
       "1      M    Dermatitis             asian  \n",
       "2      M      Diarrhea  african american  \n",
       "3      M     Dizziness   american indian  \n",
       "4      M    Drowsiness   native hawaiian  "
      ]
     },
     "execution_count": 7,
     "metadata": {},
     "output_type": "execute_result"
    }
   ],
   "source": [
    "df.head()"
   ]
  },
  {
   "cell_type": "markdown",
   "id": "18b30aff",
   "metadata": {},
   "source": [
    "### About the dataset"
   ]
  },
  {
   "cell_type": "code",
   "execution_count": 8,
   "id": "a2b45c6e",
   "metadata": {},
   "outputs": [
    {
     "name": "stdout",
     "output_type": "stream",
     "text": [
      "Number of Columns in the dataset:  8\n",
      "Number of rows in the dataset:  400000\n",
      "Total number of datapoints in the dataset: 3200000\n",
      "Count of Numerical Features: 3\n",
      "Count of Categorical Features: 5\n"
     ]
    }
   ],
   "source": [
    "def data_info(df):\n",
    "    print('Number of Columns in the dataset: ',df.shape[1])\n",
    "    print('Number of rows in the dataset: ',df.shape[0])\n",
    "    print('Total number of datapoints in the dataset:',df.size)\n",
    "    numerical_features = [f for f in df.columns if df[f].dtypes!='O']\n",
    "    print('Count of Numerical Features:',len(numerical_features))\n",
    "    cat_features = [c for c in df.columns if df[c].dtypes=='O']\n",
    "    print('Count of Categorical Features:',len(cat_features))\n",
    "data_info(df)"
   ]
  },
  {
   "cell_type": "markdown",
   "id": "9d36c49b",
   "metadata": {},
   "source": [
    "## Data Preprocessing"
   ]
  },
  {
   "cell_type": "markdown",
   "id": "e5358d78",
   "metadata": {},
   "source": [
    "### Statistical details"
   ]
  },
  {
   "cell_type": "code",
   "execution_count": 9,
   "id": "5fa65bd3",
   "metadata": {},
   "outputs": [
    {
     "data": {
      "text/html": [
       "<div>\n",
       "<style scoped>\n",
       "    .dataframe tbody tr th:only-of-type {\n",
       "        vertical-align: middle;\n",
       "    }\n",
       "\n",
       "    .dataframe tbody tr th {\n",
       "        vertical-align: top;\n",
       "    }\n",
       "\n",
       "    .dataframe thead th {\n",
       "        text-align: right;\n",
       "    }\n",
       "</style>\n",
       "<table border=\"1\" class=\"dataframe\">\n",
       "  <thead>\n",
       "    <tr style=\"text-align: right;\">\n",
       "      <th></th>\n",
       "      <th>Age</th>\n",
       "      <th>EaseofUse</th>\n",
       "      <th>Satisfaction</th>\n",
       "    </tr>\n",
       "  </thead>\n",
       "  <tbody>\n",
       "    <tr>\n",
       "      <th>count</th>\n",
       "      <td>400000.000000</td>\n",
       "      <td>400000.000000</td>\n",
       "      <td>400000.000000</td>\n",
       "    </tr>\n",
       "    <tr>\n",
       "      <th>mean</th>\n",
       "      <td>37.262695</td>\n",
       "      <td>4.019930</td>\n",
       "      <td>3.124143</td>\n",
       "    </tr>\n",
       "    <tr>\n",
       "      <th>std</th>\n",
       "      <td>9.735549</td>\n",
       "      <td>1.317273</td>\n",
       "      <td>1.611066</td>\n",
       "    </tr>\n",
       "    <tr>\n",
       "      <th>min</th>\n",
       "      <td>18.000000</td>\n",
       "      <td>1.000000</td>\n",
       "      <td>1.000000</td>\n",
       "    </tr>\n",
       "    <tr>\n",
       "      <th>25%</th>\n",
       "      <td>30.000000</td>\n",
       "      <td>3.000000</td>\n",
       "      <td>1.000000</td>\n",
       "    </tr>\n",
       "    <tr>\n",
       "      <th>50%</th>\n",
       "      <td>36.000000</td>\n",
       "      <td>5.000000</td>\n",
       "      <td>3.000000</td>\n",
       "    </tr>\n",
       "    <tr>\n",
       "      <th>75%</th>\n",
       "      <td>43.000000</td>\n",
       "      <td>5.000000</td>\n",
       "      <td>5.000000</td>\n",
       "    </tr>\n",
       "    <tr>\n",
       "      <th>max</th>\n",
       "      <td>82.000000</td>\n",
       "      <td>10.000000</td>\n",
       "      <td>10.000000</td>\n",
       "    </tr>\n",
       "  </tbody>\n",
       "</table>\n",
       "</div>"
      ],
      "text/plain": [
       "                 Age      EaseofUse   Satisfaction\n",
       "count  400000.000000  400000.000000  400000.000000\n",
       "mean       37.262695       4.019930       3.124143\n",
       "std         9.735549       1.317273       1.611066\n",
       "min        18.000000       1.000000       1.000000\n",
       "25%        30.000000       3.000000       1.000000\n",
       "50%        36.000000       5.000000       3.000000\n",
       "75%        43.000000       5.000000       5.000000\n",
       "max        82.000000      10.000000      10.000000"
      ]
     },
     "execution_count": 9,
     "metadata": {},
     "output_type": "execute_result"
    }
   ],
   "source": [
    "df.describe()"
   ]
  },
  {
   "cell_type": "code",
   "execution_count": 10,
   "id": "d5c1a2bd",
   "metadata": {},
   "outputs": [
    {
     "data": {
      "text/plain": [
       "Age               65\n",
       "Condition       1806\n",
       "Drug            7093\n",
       "EaseofUse          7\n",
       "Satisfaction       7\n",
       "Gender             2\n",
       "Side effect        8\n",
       "Race               5\n",
       "dtype: int64"
      ]
     },
     "execution_count": 10,
     "metadata": {},
     "output_type": "execute_result"
    }
   ],
   "source": [
    "df.nunique()"
   ]
  },
  {
   "cell_type": "code",
   "execution_count": 11,
   "id": "882581d4",
   "metadata": {},
   "outputs": [
    {
     "data": {
      "text/plain": [
       "['Constipation',\n",
       " ' Dermatitis',\n",
       " 'Diarrhea',\n",
       " 'Dizziness',\n",
       " 'Drowsiness',\n",
       " 'Dry mouth',\n",
       " 'Headache',\n",
       " 'Insomnia']"
      ]
     },
     "execution_count": 11,
     "metadata": {},
     "output_type": "execute_result"
    }
   ],
   "source": [
    "group_names = df['Side effect'].unique().tolist()\n",
    "group_names"
   ]
  },
  {
   "cell_type": "code",
   "execution_count": 12,
   "id": "cac12c93",
   "metadata": {},
   "outputs": [
    {
     "data": {
      "text/plain": [
       "Age              int64\n",
       "Condition       object\n",
       "Drug            object\n",
       "EaseofUse        int64\n",
       "Satisfaction     int64\n",
       "Gender          object\n",
       "Side effect     object\n",
       "Race            object\n",
       "dtype: object"
      ]
     },
     "execution_count": 12,
     "metadata": {},
     "output_type": "execute_result"
    }
   ],
   "source": [
    "df.dtypes"
   ]
  },
  {
   "cell_type": "code",
   "execution_count": 13,
   "id": "8fce7e65",
   "metadata": {},
   "outputs": [],
   "source": [
    "def unique_checker(df):\n",
    "    \"\"\"loops and prints unique values in each column\"\"\"\n",
    "    for col in df.columns:\n",
    "        print(\"Unique values in {} feature.\".format(col))\n",
    "        print(df[col].unique(),\"\\n\")\n",
    "        print(\"*\"*40)"
   ]
  },
  {
   "cell_type": "code",
   "execution_count": 14,
   "id": "24cc22ae",
   "metadata": {},
   "outputs": [
    {
     "name": "stdout",
     "output_type": "stream",
     "text": [
      "Unique values in Age feature.\n",
      "[41 49 37 33 27 32 59 30 38 36 35 29 31 34 28 22 53 24 21 42 44 46 39 43\n",
      " 50 26 48 55 45 56 23 51 40 54 58 20 25 19 57 52 47 18 60 61 62 63 64 65\n",
      " 66 67 68 69 70 71 72 73 74 75 76 77 78 79 80 81 82] \n",
      "\n",
      "****************************************\n",
      "Unique values in Condition feature.\n",
      "['Stuffy Nose' 'Cold Symptoms' 'Other' ...\n",
      " 'Combative and Explosive Behavior' 'Lead Poisoning'\n",
      " 'Poisoning from Swallowed Unknown Substance'] \n",
      "\n",
      "****************************************\n",
      "Unique values in Drug feature.\n",
      "['25dph-7.5peh' 'warfarin (bulk) 100 % powder' 'wymzya fe' ...\n",
      " 'chest congestion relief dm' 'chantix' 'chateal'] \n",
      "\n",
      "****************************************\n",
      "Unique values in EaseofUse feature.\n",
      "[ 5  2  1  4  3  6 10] \n",
      "\n",
      "****************************************\n",
      "Unique values in Satisfaction feature.\n",
      "[ 5  3  1  4  2  6 10] \n",
      "\n",
      "****************************************\n",
      "Unique values in Gender feature.\n",
      "['M' 'F'] \n",
      "\n",
      "****************************************\n",
      "Unique values in Side effect feature.\n",
      "['Constipation' ' Dermatitis' 'Diarrhea' 'Dizziness' 'Drowsiness'\n",
      " 'Dry mouth' 'Headache' 'Insomnia'] \n",
      "\n",
      "****************************************\n",
      "Unique values in Race feature.\n",
      "['asian' 'african american' 'american indian' 'native hawaiian' 'white'] \n",
      "\n",
      "****************************************\n"
     ]
    }
   ],
   "source": [
    "unique_checker(df) #scroll / toggle output to view all outputs\n",
    "\n",
    "# Note:\n",
    "## this step is just for the Data Understanding part\n",
    "### Not intergral to the straightforward analysis "
   ]
  },
  {
   "cell_type": "code",
   "execution_count": 15,
   "id": "557c3499",
   "metadata": {},
   "outputs": [],
   "source": [
    "def count_checker(df):\n",
    "    \"\"\"count of each value under each feature in the data\"\"\"\n",
    "    for col in df.columns:\n",
    "        print(\"Count for each category of values in {} feature.\".format(col))\n",
    "        print(df[col].value_counts(),\"\\n\")\n",
    "        print(\"*\"*40)"
   ]
  },
  {
   "cell_type": "code",
   "execution_count": 16,
   "id": "b0d93730",
   "metadata": {},
   "outputs": [
    {
     "name": "stdout",
     "output_type": "stream",
     "text": [
      "Count for each category of values in Age feature.\n",
      "35    20690\n",
      "34    20390\n",
      "36    18364\n",
      "31    18318\n",
      "29    18035\n",
      "      ...  \n",
      "64      168\n",
      "63      168\n",
      "62      168\n",
      "61      168\n",
      "82       84\n",
      "Name: Age, Length: 65, dtype: int64 \n",
      "\n",
      "****************************************\n",
      "Count for each category of values in Condition feature.\n",
      "Other                                                    53739\n",
      "High Blood Pressure                                      32661\n",
      "Pain                                                     25337\n",
      "Depression                                               16429\n",
      "Birth Control                                            13183\n",
      "                                                         ...  \n",
      "Severe Diarrhea                                              1\n",
      "Surgical Vitrectomy Adjunct to Enhance Visualization         1\n",
      "Varying Shades of Excessive Coloration of a Body Part        1\n",
      "Pneumonia caused by a Fungus                                 1\n",
      "Prevention of Newborn Respiratory Distress Syndrome          1\n",
      "Name: Condition, Length: 1806, dtype: int64 \n",
      "\n",
      "****************************************\n",
      "Count for each category of values in Drug feature.\n",
      "lisinopril                  8538\n",
      "lisinopril solution         8538\n",
      "lexapro                     8268\n",
      "lyrica                      6138\n",
      "cymbalta                    4648\n",
      "                            ... \n",
      "potassium phosphate vial       1\n",
      "d3-2000                        1\n",
      "mapo oil                       1\n",
      "natrecor vial                  1\n",
      "sulfadiazine powder            1\n",
      "Name: Drug, Length: 7093, dtype: int64 \n",
      "\n",
      "****************************************\n",
      "Count for each category of values in EaseofUse feature.\n",
      "5     212253\n",
      "4      82635\n",
      "3      45571\n",
      "1      39644\n",
      "2      19894\n",
      "6          2\n",
      "10         1\n",
      "Name: EaseofUse, dtype: int64 \n",
      "\n",
      "****************************************\n",
      "Count for each category of values in Satisfaction feature.\n",
      "5     121829\n",
      "1     112118\n",
      "4      69371\n",
      "3      57530\n",
      "2      39149\n",
      "6          2\n",
      "10         1\n",
      "Name: Satisfaction, dtype: int64 \n",
      "\n",
      "****************************************\n",
      "Count for each category of values in Gender feature.\n",
      "M    201272\n",
      "F    198728\n",
      "Name: Gender, dtype: int64 \n",
      "\n",
      "****************************************\n",
      "Count for each category of values in Side effect feature.\n",
      "Diarrhea        82157\n",
      "Insomnia        74220\n",
      "Constipation    66485\n",
      " Dermatitis     59074\n",
      "Dizziness       57042\n",
      "Headache        56988\n",
      "Drowsiness       2373\n",
      "Dry mouth        1661\n",
      "Name: Side effect, dtype: int64 \n",
      "\n",
      "****************************************\n",
      "Count for each category of values in Race feature.\n",
      "asian               101868\n",
      "american indian      98922\n",
      "white                71050\n",
      "native hawaiian      65243\n",
      "african american     62917\n",
      "Name: Race, dtype: int64 \n",
      "\n",
      "****************************************\n"
     ]
    }
   ],
   "source": [
    "count_checker(df) #scroll / toggle output to view all outputs\n",
    "# Note:\n",
    "## this step is just for the Data Understanding part\n",
    "### Not intergral to the straightforward analysis "
   ]
  },
  {
   "cell_type": "markdown",
   "id": "695a18a7",
   "metadata": {},
   "source": [
    "### Findings"
   ]
  },
  {
   "cell_type": "markdown",
   "id": "9ac8487e",
   "metadata": {},
   "source": [
    "The dataset contains 400000 entries with a total of 8 columns representing different attributes of the people. Here’s the list;\n",
    "* Age: Discrete \n",
    "* Sex: Nominal (2 categories)\n",
    "* Race: Nominal (5 categories)\n",
    "* Side effect: Nominal (8 categories)\n",
    "* Condition: Patients medical condtition(Categorical feature)\n",
    "* EaseofUse: It describe how easily a patient can use a medicine (Discrete)\n",
    "* Satisfaction : Patients satisfaction to a drug (Discrete)\n",
    "* Drug : Drug name (Categorical feature)"
   ]
  },
  {
   "cell_type": "code",
   "execution_count": 20,
   "id": "b20970d1",
   "metadata": {},
   "outputs": [
    {
     "data": {
      "text/plain": [
       "Index(['Age', 'Condition', 'Drug', 'EaseofUse', 'Satisfaction', 'Gender',\n",
       "       'Side effect', 'Race'],\n",
       "      dtype='object')"
      ]
     },
     "execution_count": 20,
     "metadata": {},
     "output_type": "execute_result"
    }
   ],
   "source": [
    "#creating a Dataframe from the given dataset\n",
    "dc = pd.DataFrame(df)\n",
    "dc.columns"
   ]
  },
  {
   "cell_type": "code",
   "execution_count": null,
   "id": "a7bbf1fd",
   "metadata": {},
   "outputs": [],
   "source": []
  },
  {
   "cell_type": "markdown",
   "id": "74e18b7c",
   "metadata": {},
   "source": [
    "## Data Cleaning"
   ]
  },
  {
   "cell_type": "markdown",
   "id": "9d060f36",
   "metadata": {},
   "source": [
    "### 1. Missing Value"
   ]
  },
  {
   "cell_type": "code",
   "execution_count": 21,
   "id": "a788054a",
   "metadata": {},
   "outputs": [
    {
     "data": {
      "text/plain": [
       "Age             0\n",
       "Condition       0\n",
       "Drug            0\n",
       "EaseofUse       0\n",
       "Satisfaction    0\n",
       "Gender          0\n",
       "Side effect     0\n",
       "Race            0\n",
       "dtype: int64"
      ]
     },
     "execution_count": 21,
     "metadata": {},
     "output_type": "execute_result"
    }
   ],
   "source": [
    " #check the missing value\n",
    "dc.isnull().sum()"
   ]
  },
  {
   "cell_type": "code",
   "execution_count": null,
   "id": "91e0332d",
   "metadata": {},
   "outputs": [],
   "source": []
  },
  {
   "cell_type": "markdown",
   "id": "6e6e6766",
   "metadata": {},
   "source": [
    "**Above sum shows there are no null values in the dataset.**"
   ]
  },
  {
   "cell_type": "code",
   "execution_count": null,
   "id": "37da73cb",
   "metadata": {},
   "outputs": [],
   "source": []
  },
  {
   "cell_type": "markdown",
   "id": "08d87736",
   "metadata": {},
   "source": [
    "### 2. Remove duplicate data"
   ]
  },
  {
   "cell_type": "code",
   "execution_count": 23,
   "id": "f84dcec9",
   "metadata": {},
   "outputs": [
    {
     "data": {
      "text/plain": [
       "13941"
      ]
     },
     "execution_count": 23,
     "metadata": {},
     "output_type": "execute_result"
    }
   ],
   "source": [
    "#Checking for duplicated entries\n",
    "sum(dc.duplicated(dc.columns))"
   ]
  },
  {
   "cell_type": "code",
   "execution_count": 24,
   "id": "7b04ceaf",
   "metadata": {},
   "outputs": [
    {
     "data": {
      "text/plain": [
       "0"
      ]
     },
     "execution_count": 24,
     "metadata": {},
     "output_type": "execute_result"
    }
   ],
   "source": [
    "#Delete the duplicates and check that it worked\n",
    "dc = dc.drop_duplicates(dc.columns, keep='last')\n",
    "sum(dc.duplicated(dc.columns))"
   ]
  },
  {
   "cell_type": "code",
   "execution_count": 25,
   "id": "e98454f7",
   "metadata": {},
   "outputs": [
    {
     "data": {
      "text/plain": [
       "(386059, 8)"
      ]
     },
     "execution_count": 25,
     "metadata": {},
     "output_type": "execute_result"
    }
   ],
   "source": [
    "dc.shape"
   ]
  },
  {
   "cell_type": "code",
   "execution_count": 26,
   "id": "a3bceef4",
   "metadata": {},
   "outputs": [
    {
     "data": {
      "text/plain": [
       "Index(['Age', 'Condition', 'Drug', 'EaseofUse', 'Satisfaction', 'Gender',\n",
       "       'Side effect', 'Race'],\n",
       "      dtype='object')"
      ]
     },
     "execution_count": 26,
     "metadata": {},
     "output_type": "execute_result"
    }
   ],
   "source": [
    "dc.columns"
   ]
  },
  {
   "cell_type": "code",
   "execution_count": null,
   "id": "a98c199e",
   "metadata": {},
   "outputs": [],
   "source": []
  },
  {
   "cell_type": "markdown",
   "id": "21217c32",
   "metadata": {},
   "source": [
    "### 3. Handling Outliers"
   ]
  },
  {
   "cell_type": "code",
   "execution_count": 27,
   "id": "08d6cbf1",
   "metadata": {},
   "outputs": [
    {
     "data": {
      "image/png": "[encoded data removed]",
      "text/plain": [
       "<Figure size 432x288 with 1 Axes>"
      ]
     },
     "metadata": {
      "needs_background": "light"
     },
     "output_type": "display_data"
    },
    {
     "data": {
      "image/png": "[encoded data removed]",
      "text/plain": [
       "<Figure size 432x288 with 1 Axes>"
      ]
     },
     "metadata": {
      "needs_background": "light"
     },
     "output_type": "display_data"
    },
    {
     "data": {
      "image/png": "[encoded data removed]",
      "text/plain": [
       "<Figure size 432x288 with 1 Axes>"
      ]
     },
     "metadata": {
      "needs_background": "light"
     },
     "output_type": "display_data"
    }
   ],
   "source": [
    "## checking outliers\n",
    "for i in ['Age', 'EaseofUse',\n",
    "       'Satisfaction'] :\n",
    "    plt.title(i)\n",
    "    sns.boxplot(data=dc[i])\n",
    "    plt.show()  "
   ]
  },
  {
   "cell_type": "code",
   "execution_count": 28,
   "id": "8766a887",
   "metadata": {},
   "outputs": [
    {
     "data": {
      "text/html": [
       "<div>\n",
       "<style scoped>\n",
       "    .dataframe tbody tr th:only-of-type {\n",
       "        vertical-align: middle;\n",
       "    }\n",
       "\n",
       "    .dataframe tbody tr th {\n",
       "        vertical-align: top;\n",
       "    }\n",
       "\n",
       "    .dataframe thead th {\n",
       "        text-align: right;\n",
       "    }\n",
       "</style>\n",
       "<table border=\"1\" class=\"dataframe\">\n",
       "  <thead>\n",
       "    <tr style=\"text-align: right;\">\n",
       "      <th></th>\n",
       "      <th>Age</th>\n",
       "      <th>Condition</th>\n",
       "      <th>Drug</th>\n",
       "      <th>EaseofUse</th>\n",
       "      <th>Satisfaction</th>\n",
       "      <th>Gender</th>\n",
       "      <th>Side effect</th>\n",
       "      <th>Race</th>\n",
       "    </tr>\n",
       "  </thead>\n",
       "  <tbody>\n",
       "    <tr>\n",
       "      <th>0</th>\n",
       "      <td>41</td>\n",
       "      <td>Stuffy Nose</td>\n",
       "      <td>25dph-7.5peh</td>\n",
       "      <td>5</td>\n",
       "      <td>5</td>\n",
       "      <td>M</td>\n",
       "      <td>Constipation</td>\n",
       "      <td>asian</td>\n",
       "    </tr>\n",
       "    <tr>\n",
       "      <th>1</th>\n",
       "      <td>49</td>\n",
       "      <td>Cold Symptoms</td>\n",
       "      <td>25dph-7.5peh</td>\n",
       "      <td>5</td>\n",
       "      <td>5</td>\n",
       "      <td>M</td>\n",
       "      <td>Dermatitis</td>\n",
       "      <td>asian</td>\n",
       "    </tr>\n",
       "    <tr>\n",
       "      <th>2</th>\n",
       "      <td>37</td>\n",
       "      <td>Other</td>\n",
       "      <td>warfarin (bulk) 100 % powder</td>\n",
       "      <td>2</td>\n",
       "      <td>3</td>\n",
       "      <td>M</td>\n",
       "      <td>Diarrhea</td>\n",
       "      <td>african american</td>\n",
       "    </tr>\n",
       "    <tr>\n",
       "      <th>3</th>\n",
       "      <td>33</td>\n",
       "      <td>Other</td>\n",
       "      <td>warfarin (bulk) 100 % powder</td>\n",
       "      <td>2</td>\n",
       "      <td>1</td>\n",
       "      <td>M</td>\n",
       "      <td>Dizziness</td>\n",
       "      <td>american indian</td>\n",
       "    </tr>\n",
       "    <tr>\n",
       "      <th>4</th>\n",
       "      <td>27</td>\n",
       "      <td>Other</td>\n",
       "      <td>warfarin (bulk) 100 % powder</td>\n",
       "      <td>1</td>\n",
       "      <td>1</td>\n",
       "      <td>M</td>\n",
       "      <td>Drowsiness</td>\n",
       "      <td>native hawaiian</td>\n",
       "    </tr>\n",
       "  </tbody>\n",
       "</table>\n",
       "</div>"
      ],
      "text/plain": [
       "   Age      Condition                          Drug  EaseofUse  Satisfaction  \\\n",
       "0   41    Stuffy Nose                  25dph-7.5peh          5             5   \n",
       "1   49  Cold Symptoms                  25dph-7.5peh          5             5   \n",
       "2   37          Other  warfarin (bulk) 100 % powder          2             3   \n",
       "3   33          Other  warfarin (bulk) 100 % powder          2             1   \n",
       "4   27          Other  warfarin (bulk) 100 % powder          1             1   \n",
       "\n",
       "  Gender   Side effect              Race  \n",
       "0      M  Constipation             asian  \n",
       "1      M    Dermatitis             asian  \n",
       "2      M      Diarrhea  african american  \n",
       "3      M     Dizziness   american indian  \n",
       "4      M    Drowsiness   native hawaiian  "
      ]
     },
     "execution_count": 28,
     "metadata": {},
     "output_type": "execute_result"
    }
   ],
   "source": [
    "df1=dc\n",
    "df1.head()"
   ]
  },
  {
   "cell_type": "markdown",
   "id": "fa28f4a7",
   "metadata": {},
   "source": [
    "### Handling Outliers with Age"
   ]
  },
  {
   "cell_type": "code",
   "execution_count": 29,
   "id": "54b59574",
   "metadata": {},
   "outputs": [],
   "source": [
    "q1 = np.percentile(df1['Age'],25,interpolation='midpoint')\n",
    "q3 = np.percentile(df1['Age'],75,interpolation='midpoint')\n",
    "\n",
    "IQR = q3-q1\n",
    "low_limit=q1-1.5*IQR\n",
    "high_limit=q3+1.5*IQR\n",
    "\n",
    "index=df1['Age'][(df1['Age']<low_limit)|(df1['Age']>high_limit)].index\n",
    "df1.drop(index,inplace=True)"
   ]
  },
  {
   "cell_type": "markdown",
   "id": "92fbece1",
   "metadata": {},
   "source": [
    "### Handling Outliers with EaseofUse"
   ]
  },
  {
   "cell_type": "code",
   "execution_count": 30,
   "id": "1ba76c76",
   "metadata": {},
   "outputs": [],
   "source": [
    "q1 = np.percentile(df1['EaseofUse'],25,interpolation='midpoint')\n",
    "q3 = np.percentile(df1['EaseofUse'],75,interpolation='midpoint')\n",
    "\n",
    "IQR = q3-q1\n",
    "low_limit=q1-1.5*IQR\n",
    "high_limit=q3+1.5*IQR\n",
    "\n",
    "index=df1['EaseofUse'][(df1['EaseofUse']<low_limit)|(df1['EaseofUse']>high_limit)].index\n",
    "df1.drop(index,inplace=True)"
   ]
  },
  {
   "cell_type": "markdown",
   "id": "204a10e6",
   "metadata": {},
   "source": [
    "### Handling Outliers with Satisfaction"
   ]
  },
  {
   "cell_type": "code",
   "execution_count": 31,
   "id": "c9a15ee8",
   "metadata": {},
   "outputs": [],
   "source": [
    "q1 = np.percentile(df1['Satisfaction'],25,interpolation='midpoint')\n",
    "q3 = np.percentile(df1['Satisfaction'],75,interpolation='midpoint')\n",
    "\n",
    "IQR = q3-q1\n",
    "low_limit=q1-1.5*IQR\n",
    "high_limit=q3+1.5*IQR\n",
    "\n",
    "index=df1['Satisfaction'][(df1['Satisfaction']<low_limit)|(df1['Satisfaction']>high_limit)].index\n",
    "df1.drop(index,inplace=True)"
   ]
  },
  {
   "cell_type": "code",
   "execution_count": 32,
   "id": "4a7bffdc",
   "metadata": {},
   "outputs": [
    {
     "data": {
      "image/png": "[encoded data removed]",
      "text/plain": [
       "<Figure size 432x288 with 1 Axes>"
      ]
     },
     "metadata": {
      "needs_background": "light"
     },
     "output_type": "display_data"
    },
    {
     "data": {
      "image/png": "[encoded data removed]",
      "text/plain": [
       "<Figure size 432x288 with 1 Axes>"
      ]
     },
     "metadata": {
      "needs_background": "light"
     },
     "output_type": "display_data"
    },
    {
     "data": {
      "image/png": "[encoded data removed]",
      "text/plain": [
       "<Figure size 432x288 with 1 Axes>"
      ]
     },
     "metadata": {
      "needs_background": "light"
     },
     "output_type": "display_data"
    }
   ],
   "source": [
    "## checking outliers\n",
    "for i in ['Age', 'EaseofUse',\n",
    "       'Satisfaction'] :\n",
    "    plt.title(i)\n",
    "    sns.boxplot(data=df1[i])\n",
    "    plt.show() "
   ]
  },
  {
   "cell_type": "code",
   "execution_count": null,
   "id": "d8f4d1dc",
   "metadata": {},
   "outputs": [],
   "source": []
  }
 ],
 "metadata": {
  "kernelspec": {
   "display_name": "Python 3",
   "language": "python",
   "name": "python3"
  },
  "language_info": {
   "codemirror_mode": {
    "name": "ipython",
    "version": 3
   },
   "file_extension": ".py",
   "mimetype": "text/x-python",
   "name": "python",
   "nbconvert_exporter": "python",
   "pygments_lexer": "ipython3",
   "version": "3.8.8"
  }
 },
 "nbformat": 4,
 "nbformat_minor": 5
}
